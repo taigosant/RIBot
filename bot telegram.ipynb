{
 "cells": [
  {
   "cell_type": "markdown",
   "metadata": {},
   "source": [
    "## Bot Telegram paito"
   ]
  },
  {
   "cell_type": "code",
   "execution_count": 3,
   "metadata": {},
   "outputs": [],
   "source": [
    "import telepot\n",
    "import Bot as se\n",
    "\n",
    "robot = telepot.Bot(\"409078068:AAHJyyAOYOv7WkOqqLOxFhGHNn81nHoKxZs\")"
   ]
  },
  {
   "cell_type": "code",
   "execution_count": null,
   "metadata": {},
   "outputs": [],
   "source": [
    "def recebendoMsg(msg):\n",
    "    name = msg['chat']['first_name']\n",
    "    tipoMsg, tipoChat, chatID = telepot.glance(msg)\n",
    "    print name, chatID\n",
    "    robot.sendMessage(chatID,\"Olá, \"+name+\". \"+ se.searchCategory(msg))\n",
    "    \n",
    "    \n",
    "\n",
    "\n",
    "robot.message_loop(recebendoMsg)\n",
    "\n",
    "while True:\n",
    "    pass"
   ]
  },
  {
   "cell_type": "code",
   "execution_count": null,
   "metadata": {},
   "outputs": [],
   "source": []
  }
 ],
 "metadata": {
  "kernelspec": {
   "display_name": "Python 2",
   "language": "python",
   "name": "python2"
  },
  "language_info": {
   "codemirror_mode": {
    "name": "ipython",
    "version": 2
   },
   "file_extension": ".py",
   "mimetype": "text/x-python",
   "name": "python",
   "nbconvert_exporter": "python",
   "pygments_lexer": "ipython2",
   "version": "2.7.12"
  }
 },
 "nbformat": 4,
 "nbformat_minor": 2
}
