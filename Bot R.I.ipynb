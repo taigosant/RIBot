{
 "cells": [
  {
   "cell_type": "markdown",
   "metadata": {},
   "source": [
    "### Carregando dados da Loja"
   ]
  },
  {
   "cell_type": "code",
   "execution_count": 1,
   "metadata": {},
   "outputs": [
    {
     "name": "stdout",
     "output_type": "stream",
     "text": [
      "Bot.py  Bot.pyc  Bot R.I.ipynb  bot telegram.ipynb  \u001b[0m\u001b[01;34mdata\u001b[0m/  main.py\r\n"
     ]
    }
   ],
   "source": [
    "ls"
   ]
  },
  {
   "cell_type": "code",
   "execution_count": 2,
   "metadata": {},
   "outputs": [],
   "source": [
    "import json\n",
    "import numpy\n",
    "import nltk\n",
    "from pprint import pprint"
   ]
  },
  {
   "cell_type": "code",
   "execution_count": 3,
   "metadata": {},
   "outputs": [],
   "source": [
    "with open('data/salao/04.json', 'r') as f:\n",
    "    data = json.load(f)"
   ]
  },
  {
   "cell_type": "code",
   "execution_count": 4,
   "metadata": {},
   "outputs": [
    {
     "data": {
      "text/plain": [
       "[{u'categoria': 0, u'nome': u'Escova', u'preco': u'50'},\n",
       " {u'categoria': 0, u'nome': u'Corte (Masculino e Feminino)', u'preco': u'50'},\n",
       " {u'categoria': 0, u'nome': u'Lavar e Secar', u'preco': u'50'},\n",
       " {u'categoria': 0, u'nome': u'Corte + Escova', u'preco': u'50'},\n",
       " {u'categoria': 0, u'nome': u'Penteado', u'preco': u'50'},\n",
       " {u'categoria': 0, u'nome': u'Tonaliza\\xe7\\xe3o', u'preco': u'50'},\n",
       " {u'categoria': 0, u'nome': u'Colora\\xe7\\xe3o', u'preco': u'50'},\n",
       " {u'categoria': 0, u'nome': u'Luzes', u'preco': u'50'},\n",
       " {u'categoria': 0, u'nome': u'Mechas', u'preco': u'50'},\n",
       " {u'categoria': 0, u'nome': u'Mega Hair', u'preco': u'50'},\n",
       " {u'categoria': 0, u'nome': u'Nutri\\xe7\\xe3o', u'preco': u'50'},\n",
       " {u'categoria': 0, u'nome': u'Hidrata\\xe7\\xe3o', u'preco': u'50'},\n",
       " {u'categoria': 0, u'nome': u'Cauteriza\\xe7\\xe3o', u'preco': u'50'},\n",
       " {u'categoria': 1, u'nome': u'Francesinha', u'preco': u'50'},\n",
       " {u'categoria': 1, u'nome': u'Pedicure e Manicure', u'preco': u'50'},\n",
       " {u'categoria': 1, u'nome': u'Unha de Gel', u'preco': u'50'},\n",
       " {u'categoria': 1, u'nome': u'Pedicure Decorada', u'preco': u'50'},\n",
       " {u'categoria': 1, u'nome': u'Unhas Posti\\xe7as', u'preco': u'50'},\n",
       " {u'categoria': 1, u'nome': u'Alongamento de Unha', u'preco': u'50'},\n",
       " {u'categoria': 1, u'nome': u'Unhas de Acrygel', u'preco': u'50'},\n",
       " {u'categoria': 1, u'nome': u'Manuten\\xe7\\xe3o', u'preco': u'50'},\n",
       " {u'categoria': 1, u'nome': u'Reposi\\xe7\\xe3o', u'preco': u'50'},\n",
       " {u'categoria': 1, u'nome': u'Unha de Porcelana', u'preco': u'50'},\n",
       " {u'categoria': 2, u'nome': u'Sobrancelha de Henna', u'preco': u'50'},\n",
       " {u'categoria': 2, u'nome': u'Sobrancelha Geom\\xe9trica', u'preco': u'50'},\n",
       " {u'categoria': 2, u'nome': u'Design de Sobrancelha', u'preco': u'50'},\n",
       " {u'categoria': 2, u'nome': u'Sobrancelha', u'preco': u'50'},\n",
       " {u'categoria': 3, u'nome': u'Drenagem Linf\\xe1tica', u'preco': u'50'},\n",
       " {u'categoria': 3, u'nome': u'Massagem Modeladora', u'preco': u'50'},\n",
       " {u'categoria': 3, u'nome': u'Limpeza de costas', u'preco': u'50'},\n",
       " {u'categoria': 3, u'nome': u'Massagem antiestresse', u'preco': u'50'},\n",
       " {u'categoria': 3, u'nome': u'Endermoterapia', u'preco': u'50'},\n",
       " {u'categoria': 4, u'nome': u'Laser', u'preco': u'50'},\n",
       " {u'categoria': 4, u'nome': u'Peeling Qu\\xedmico', u'preco': u'50'},\n",
       " {u'categoria': 4, u'nome': u'Peeling de Cristal', u'preco': u'50'},\n",
       " {u'categoria': 4, u'nome': u'Maquiagem', u'preco': u'50'},\n",
       " {u'categoria': 4, u'nome': u'Limpeza de Pele', u'preco': u'50'},\n",
       " {u'categoria': 4, u'nome': u'Tratamento para Acne', u'preco': u'50'},\n",
       " {u'categoria': 4, u'nome': u'Hidrata\\xe7\\xe3o Facial', u'preco': u'50'},\n",
       " {u'categoria': 4, u'nome': u'Drenagem Facial', u'preco': u'50'},\n",
       " {u'categoria': 4, u'nome': u'Massagem Facial', u'preco': u'50'},\n",
       " {u'categoria': 4, u'nome': u'Tintura de C\\xedlios', u'preco': u'50'},\n",
       " {u'categoria': 4, u'nome': u'Maquiagem Definitiva', u'preco': u'50'},\n",
       " {u'categoria': 4,\n",
       "  u'nome': u'Micropuntura (Olhos, Boca, Testa, Pacote Rosto)',\n",
       "  u'preco': u'50'},\n",
       " {u'categoria': 5, u'nome': u'Perna Inteira', u'preco': u'50'},\n",
       " {u'categoria': 5, u'nome': u'Meia Perna', u'preco': u'50'},\n",
       " {u'categoria': 5, u'nome': u'Meia Perna', u'preco': u'50'},\n",
       " {u'categoria': 5, u'nome': u'Virilha', u'preco': u'50'},\n",
       " {u'categoria': 5, u'nome': u'Axilas', u'preco': u'50'},\n",
       " {u'categoria': 5, u'nome': u'Bu\\xe7o', u'preco': u'50'},\n",
       " {u'categoria': 5, u'nome': u'Peito', u'preco': u'50'},\n",
       " {u'categoria': 5, u'nome': u'Costas', u'preco': u'50'},\n",
       " {u'categoria': 5, u'nome': u'Barba', u'preco': u'50'}]"
      ]
     },
     "execution_count": 4,
     "metadata": {},
     "output_type": "execute_result"
    }
   ],
   "source": [
    "data['loja']['categorias']\n",
    "data['servicos']\n",
    "\n",
    "#data['servicos'][0:9]+ data['servicos'][24:26]"
   ]
  },
  {
   "cell_type": "markdown",
   "metadata": {},
   "source": [
    "# Indexando apenas as categorias dos Serviços oferecidos "
   ]
  },
  {
   "cell_type": "code",
   "execution_count": 5,
   "metadata": {},
   "outputs": [
    {
     "name": "stdout",
     "output_type": "stream",
     "text": [
      "cabelo\n",
      "UNHAS/PES\n",
      "SOBRANCELHA\n",
      "CORPO\n",
      "ROSTO\n",
      "DEPILAÇÃO\n"
     ]
    }
   ],
   "source": [
    "corpusCategory = {}\n",
    "for item in data['loja']['categorias']:\n",
    "    print item['nome']\n",
    "    corpusCategory[item['id']] = item['nome']    \n",
    "for item in data['servicos']:    \n",
    "    corpusCategory[item['categoria']] += \" \\n \" +item['nome']\n",
    "#     print item['nome']\n"
   ]
  },
  {
   "cell_type": "code",
   "execution_count": 6,
   "metadata": {},
   "outputs": [
    {
     "data": {
      "text/plain": [
       "{0: u'cabelo \\n Escova \\n Corte (Masculino e Feminino) \\n Lavar e Secar \\n Corte + Escova \\n Penteado \\n Tonaliza\\xe7\\xe3o \\n Colora\\xe7\\xe3o \\n Luzes \\n Mechas \\n Mega Hair \\n Nutri\\xe7\\xe3o \\n Hidrata\\xe7\\xe3o \\n Cauteriza\\xe7\\xe3o',\n",
       " 1: u'UNHAS/PES \\n Francesinha \\n Pedicure e Manicure \\n Unha de Gel \\n Pedicure Decorada \\n Unhas Posti\\xe7as \\n Alongamento de Unha \\n Unhas de Acrygel \\n Manuten\\xe7\\xe3o \\n Reposi\\xe7\\xe3o \\n Unha de Porcelana',\n",
       " 2: u'SOBRANCELHA \\n Sobrancelha de Henna \\n Sobrancelha Geom\\xe9trica \\n Design de Sobrancelha \\n Sobrancelha',\n",
       " 3: u'CORPO \\n Drenagem Linf\\xe1tica \\n Massagem Modeladora \\n Limpeza de costas \\n Massagem antiestresse \\n Endermoterapia',\n",
       " 4: u'ROSTO \\n Laser \\n Peeling Qu\\xedmico \\n Peeling de Cristal \\n Maquiagem \\n Limpeza de Pele \\n Tratamento para Acne \\n Hidrata\\xe7\\xe3o Facial \\n Drenagem Facial \\n Massagem Facial \\n Tintura de C\\xedlios \\n Maquiagem Definitiva \\n Micropuntura (Olhos, Boca, Testa, Pacote Rosto)',\n",
       " 5: u'DEPILA\\xc7\\xc3O \\n Perna Inteira \\n Meia Perna \\n Meia Perna \\n Virilha \\n Axilas \\n Bu\\xe7o \\n Peito \\n Costas \\n Barba'}"
      ]
     },
     "execution_count": 6,
     "metadata": {},
     "output_type": "execute_result"
    }
   ],
   "source": [
    "#Exibindo dados sobre as categorias\n",
    "corpusCategory "
   ]
  },
  {
   "cell_type": "markdown",
   "metadata": {},
   "source": [
    "### Definindo Stop Words"
   ]
  },
  {
   "cell_type": "code",
   "execution_count": 7,
   "metadata": {},
   "outputs": [],
   "source": [
    "stopwords = nltk.corpus.stopwords.words('portuguese')"
   ]
  },
  {
   "cell_type": "markdown",
   "metadata": {},
   "source": [
    "### Aplicando stemmer"
   ]
  },
  {
   "cell_type": "code",
   "execution_count": 8,
   "metadata": {},
   "outputs": [],
   "source": [
    "\n",
    "from nltk.stem import RSLPStemmer\n",
    "# nltk.download()\n",
    "stemmer = RSLPStemmer()\n"
   ]
  },
  {
   "cell_type": "code",
   "execution_count": 9,
   "metadata": {},
   "outputs": [],
   "source": [
    "def stem_tokens(tokens, stemmer):\n",
    "    stemmed = []\n",
    "    for item in tokens:\n",
    "        stemmed.append(stemmer.stem(item))\n",
    "    return stemmed\n",
    "\n",
    "def tokenize(text):\n",
    "    tokens = nltk.word_tokenize(text)\n",
    "    stems = stem_tokens(tokens, stemmer)\n",
    "    return stems"
   ]
  },
  {
   "cell_type": "markdown",
   "metadata": {},
   "source": [
    "### Utilizando CountVectorizer"
   ]
  },
  {
   "cell_type": "code",
   "execution_count": 10,
   "metadata": {},
   "outputs": [],
   "source": [
    "from sklearn.feature_extraction.text import TfidfVectorizer\n",
    "tfidf_vectorizer = TfidfVectorizer(analyzer='word', tokenizer=tokenize, stop_words= stopwords)"
   ]
  },
  {
   "cell_type": "code",
   "execution_count": 11,
   "metadata": {},
   "outputs": [
    {
     "data": {
      "text/plain": [
       "TfidfVectorizer(analyzer='word', binary=False, decode_error=u'strict',\n",
       "        dtype=<type 'numpy.int64'>, encoding=u'utf-8', input=u'content',\n",
       "        lowercase=True, max_df=1.0, max_features=None, min_df=1,\n",
       "        ngram_range=(1, 1), norm=u'l2', preprocessor=None, smooth_idf=True,\n",
       "        stop_words=[u'de', u'a', u'o', u'que', u'e', u'do', u'da', u'em', u'um', u'para', u'com', u'n\\xe3o', u'uma', u'os', u'no', u'se', u'na', u'por', u'mais', u'as', u'dos', u'como', u'mas', u'ao', u'ele', u'das', u'\\xe0', u'seu', u'sua', u'ou', u'quando', u'muito', u'nos', u'j\\xe1', u'eu', u'tamb\\xe9m',...os', u'tiverem', u'terei', u'ter\\xe1', u'teremos', u'ter\\xe3o', u'teria', u'ter\\xedamos', u'teriam'],\n",
       "        strip_accents=None, sublinear_tf=False,\n",
       "        token_pattern=u'(?u)\\\\b\\\\w\\\\w+\\\\b',\n",
       "        tokenizer=<function tokenize at 0x7faf0048bd70>, use_idf=True,\n",
       "        vocabulary=None)"
      ]
     },
     "execution_count": 11,
     "metadata": {},
     "output_type": "execute_result"
    }
   ],
   "source": [
    "#Extraindo vocabulário \n",
    "tfidf_vectorizer.fit(corpusCategory.values())"
   ]
  },
  {
   "cell_type": "code",
   "execution_count": 12,
   "metadata": {},
   "outputs": [
    {
     "data": {
      "text/plain": [
       "{u'(': 0,\n",
       " u')': 1,\n",
       " u'+': 2,\n",
       " u',': 3,\n",
       " u'acn': 4,\n",
       " u'acrygel': 5,\n",
       " u'along': 6,\n",
       " u'antiestr': 7,\n",
       " u'axil': 8,\n",
       " u'barb': 9,\n",
       " u'boc': 10,\n",
       " u'bu\\xe7': 11,\n",
       " u'cabel': 12,\n",
       " u'cauter': 13,\n",
       " u'color': 14,\n",
       " u'corp': 15,\n",
       " u'cort': 16,\n",
       " u'cost': 17,\n",
       " u'crist': 18,\n",
       " u'c\\xedli': 19,\n",
       " u'decor': 20,\n",
       " u'defini': 21,\n",
       " u'depil': 22,\n",
       " u'design': 23,\n",
       " u'dren': 24,\n",
       " u'endermoterap': 25,\n",
       " u'escov': 26,\n",
       " u'fac': 27,\n",
       " u'feminin': 28,\n",
       " u'frances': 29,\n",
       " u'gel': 30,\n",
       " u'geom\\xe9tr': 31,\n",
       " u'hair': 32,\n",
       " u'henn': 33,\n",
       " u'hidrat': 34,\n",
       " u'int': 35,\n",
       " u'las': 36,\n",
       " u'lav': 37,\n",
       " u'limp': 38,\n",
       " u'linf\\xe1': 39,\n",
       " u'luz': 40,\n",
       " u'manicur': 41,\n",
       " u'manuten\\xe7': 42,\n",
       " u'maqui': 43,\n",
       " u'masculin': 44,\n",
       " u'mass': 45,\n",
       " u'mech': 46,\n",
       " u'meg': 47,\n",
       " u'mei': 48,\n",
       " u'micropunt': 49,\n",
       " u'model': 50,\n",
       " u'nutr': 51,\n",
       " u'olh': 52,\n",
       " u'pacot': 53,\n",
       " u'par': 54,\n",
       " u'pedicur': 55,\n",
       " u'peeling': 56,\n",
       " u'peit': 57,\n",
       " u'pel': 58,\n",
       " u'pente': 59,\n",
       " u'pern': 60,\n",
       " u'porcel': 61,\n",
       " u'posti\\xe7': 62,\n",
       " u'qu\\xedm': 63,\n",
       " u'repos': 64,\n",
       " u'rost': 65,\n",
       " u'sec': 66,\n",
       " u'sobrancelh': 67,\n",
       " u'test': 68,\n",
       " u'tint': 69,\n",
       " u'tonal': 70,\n",
       " u'trat': 71,\n",
       " u'unh': 72,\n",
       " u'unhas/p': 73,\n",
       " u'virilh': 74}"
      ]
     },
     "execution_count": 12,
     "metadata": {},
     "output_type": "execute_result"
    }
   ],
   "source": [
    "tfidf_vectorizer.vocabulary_"
   ]
  },
  {
   "cell_type": "code",
   "execution_count": null,
   "metadata": {},
   "outputs": [],
   "source": []
  },
  {
   "cell_type": "code",
   "execution_count": 13,
   "metadata": {},
   "outputs": [
    {
     "name": "stdout",
     "output_type": "stream",
     "text": [
      "Stop Words :5 [u'de', u'a', u'o', u'que', u'e']\n",
      "Vocabulary [size]: 75\n",
      "Vocabulary: {u'axil': 8, u'manuten\\xe7': 42, u'cabel': 12, u'limp': 38, u',': 3, u'feminin': 28, u'maqui': 43, u'lav': 37, u'tint': 69, u'(': 0, u'sobrancelh': 67, u'color': 14, u'defini': 21, u'rost': 65, u'unhas/p': 73, u'pacot': 53, u'depil': 22, u'pente': 59, u'fac': 27, u'gel': 30, u'crist': 18, u'tonal': 70, u'pedicur': 55, u'escov': 26, u'trat': 71, u'cost': 17, u'endermoterap': 25, u'design': 23, u'cauter': 13, u'henn': 33, u'olh': 52, u'repos': 64, u'hair': 32, u'barb': 9, u'sec': 66, u'pern': 60, u'masculin': 44, u'decor': 20, u')': 1, u'+': 2, u'nutr': 51, u'manicur': 41, u'pel': 58, u'linf\\xe1': 39, u'qu\\xedm': 63, u'test': 68, u'micropunt': 49, u'model': 50, u'meg': 47, u'porcel': 61, u'peeling': 56, u'antiestr': 7, u'mei': 48, u'par': 54, u'frances': 29, u'cort': 16, u'unh': 72, u'peit': 57, u'corp': 15, u'dren': 24, u'along': 6, u'bu\\xe7': 11, u'las': 36, u'acrygel': 5, u'c\\xedli': 19, u'mech': 46, u'acn': 4, u'geom\\xe9tr': 31, u'int': 35, u'mass': 45, u'posti\\xe7': 62, u'virilh': 74, u'boc': 10, u'luz': 40, u'hidrat': 34}\n"
     ]
    }
   ],
   "source": [
    "print \"Stop Words :5\", tfidf_vectorizer.stop_words[:5]\n",
    "print \"Vocabulary [size]:\", len(tfidf_vectorizer.vocabulary_)\n",
    "print \"Vocabulary:\", tfidf_vectorizer.vocabulary_"
   ]
  },
  {
   "cell_type": "markdown",
   "metadata": {},
   "source": [
    "### Calculando o TF/IDF com TfidfTransformer"
   ]
  },
  {
   "cell_type": "code",
   "execution_count": 14,
   "metadata": {},
   "outputs": [
    {
     "name": "stdout",
     "output_type": "stream",
     "text": [
      "(6, 75)\n"
     ]
    }
   ],
   "source": [
    "tfidf_matrix = tfidf_vectorizer.transform(corpusCategory.values())\n",
    "# print corpusCategory.values()\n",
    "print tfidf_matrix.shape"
   ]
  },
  {
   "cell_type": "markdown",
   "metadata": {},
   "source": [
    "### Calculando Similaridade"
   ]
  },
  {
   "cell_type": "code",
   "execution_count": 15,
   "metadata": {},
   "outputs": [],
   "source": [
    "from sklearn.metrics.pairwise import cosine_similarity"
   ]
  },
  {
   "cell_type": "code",
   "execution_count": 16,
   "metadata": {},
   "outputs": [],
   "source": [
    "def rankingInput(model, matrix, sentence):\n",
    "    response = model.transform(sentence)\n",
    "    cosine_similarities  = cosine_similarity(response, matrix).flatten()\n",
    "    related_docs_indices = [i for i in cosine_similarities.argsort()[::-1]]\n",
    "    return [(index, cosine_similarities[index]) for index in related_docs_indices][0:10]"
   ]
  },
  {
   "cell_type": "code",
   "execution_count": 17,
   "metadata": {},
   "outputs": [
    {
     "name": "stdout",
     "output_type": "stream",
     "text": [
      "[(1, 0.79056941504209466), (5, 0.0), (4, 0.0), (3, 0.0), (2, 0.0), (0, 0.0)]\n",
      "Olá, acredito que você procurando esse tipo de serviço \n",
      "0 (1, 0.79056941504209466)\n",
      "Top # 1 UNHAS/PES\n",
      "1 (5, 0.0)\n",
      "Top # 2 DEPILAÇÃO\n",
      "2 (4, 0.0)\n",
      "Top # 3 ROSTO\n",
      "3 (3, 0.0)\n",
      "Top # 4 CORPO\n",
      "4 (2, 0.0)\n",
      "Top # 5 SOBRANCELHA\n",
      "5 (0, 0.0)\n",
      "Top # 6 cabelo\n"
     ]
    }
   ],
   "source": [
    "ranking = rankingInput(model=tfidf_vectorizer, matrix=tfidf_matrix, sentence=['quero pintar minhas unhas' ])\n",
    "print ranking\n",
    "services = data['loja']['categorias']\n",
    "print \"Olá, acredito que você procurando esse tipo de serviço \"\n",
    "for index, item in enumerate(ranking):\n",
    "    print index, item\n",
    "    print \"Top #\",str(index+1), services[item[0]]['nome']\n",
    "    #print item"
   ]
  },
  {
   "cell_type": "code",
   "execution_count": 18,
   "metadata": {},
   "outputs": [
    {
     "name": "stdout",
     "output_type": "stream",
     "text": [
      "[(1, 0.79056941504209466), (5, 0.0), (4, 0.0), (3, 0.0), (2, 0.0), (0, 0.0)]\n"
     ]
    }
   ],
   "source": [
    "print  ranking\n"
   ]
  },
  {
   "cell_type": "markdown",
   "metadata": {},
   "source": [
    "## categorias candidatas"
   ]
  },
  {
   "cell_type": "code",
   "execution_count": 19,
   "metadata": {},
   "outputs": [
    {
     "name": "stdout",
     "output_type": "stream",
     "text": [
      "[1]\n"
     ]
    }
   ],
   "source": [
    "\n",
    "candidates = [x for x,y in ranking if y > 0]\n",
    "print candidates"
   ]
  },
  {
   "cell_type": "markdown",
   "metadata": {},
   "source": [
    "# Indexando os serviços (produtos)"
   ]
  },
  {
   "cell_type": "code",
   "execution_count": 20,
   "metadata": {},
   "outputs": [
    {
     "data": {
      "text/plain": [
       "[u'Escova',\n",
       " u'Corte (Masculino e Feminino)',\n",
       " u'Lavar e Secar',\n",
       " u'Corte + Escova',\n",
       " u'Penteado',\n",
       " u'Tonaliza\\xe7\\xe3o',\n",
       " u'Colora\\xe7\\xe3o',\n",
       " u'Luzes',\n",
       " u'Mechas',\n",
       " u'Mega Hair',\n",
       " u'Nutri\\xe7\\xe3o',\n",
       " u'Hidrata\\xe7\\xe3o',\n",
       " u'Cauteriza\\xe7\\xe3o',\n",
       " u'Francesinha',\n",
       " u'Pedicure e Manicure',\n",
       " u'Unha de Gel',\n",
       " u'Pedicure Decorada',\n",
       " u'Unhas Posti\\xe7as',\n",
       " u'Alongamento de Unha',\n",
       " u'Unhas de Acrygel',\n",
       " u'Manuten\\xe7\\xe3o',\n",
       " u'Reposi\\xe7\\xe3o',\n",
       " u'Unha de Porcelana',\n",
       " u'Sobrancelha de Henna',\n",
       " u'Sobrancelha Geom\\xe9trica',\n",
       " u'Design de Sobrancelha',\n",
       " u'Sobrancelha',\n",
       " u'Drenagem Linf\\xe1tica',\n",
       " u'Massagem Modeladora',\n",
       " u'Limpeza de costas',\n",
       " u'Massagem antiestresse',\n",
       " u'Endermoterapia',\n",
       " u'Laser',\n",
       " u'Peeling Qu\\xedmico',\n",
       " u'Peeling de Cristal',\n",
       " u'Maquiagem',\n",
       " u'Limpeza de Pele',\n",
       " u'Tratamento para Acne',\n",
       " u'Hidrata\\xe7\\xe3o Facial',\n",
       " u'Drenagem Facial',\n",
       " u'Massagem Facial',\n",
       " u'Tintura de C\\xedlios',\n",
       " u'Maquiagem Definitiva',\n",
       " u'Micropuntura (Olhos, Boca, Testa, Pacote Rosto)',\n",
       " u'Perna Inteira',\n",
       " u'Meia Perna',\n",
       " u'Meia Perna',\n",
       " u'Virilha',\n",
       " u'Axilas',\n",
       " u'Bu\\xe7o',\n",
       " u'Peito',\n",
       " u'Costas',\n",
       " u'Barba']"
      ]
     },
     "execution_count": 20,
     "metadata": {},
     "output_type": "execute_result"
    }
   ],
   "source": [
    "corpusItemsService = [0] * len(data['servicos'])\n",
    "# print data['servicos']\n",
    "for index, item in enumerate(data['servicos']):\n",
    "    corpusItemsService[index] = item['nome']\n",
    "corpusItemsService"
   ]
  },
  {
   "cell_type": "markdown",
   "metadata": {},
   "source": [
    "### Utilizando CountVectorizer"
   ]
  },
  {
   "cell_type": "code",
   "execution_count": 21,
   "metadata": {},
   "outputs": [
    {
     "data": {
      "text/plain": [
       "TfidfVectorizer(analyzer='word', binary=False, decode_error=u'strict',\n",
       "        dtype=<type 'numpy.int64'>, encoding=u'utf-8', input=u'content',\n",
       "        lowercase=True, max_df=1.0, max_features=None, min_df=1,\n",
       "        ngram_range=(1, 1), norm=u'l2', preprocessor=None, smooth_idf=True,\n",
       "        stop_words=[u'de', u'a', u'o', u'que', u'e', u'do', u'da', u'em', u'um', u'para', u'com', u'n\\xe3o', u'uma', u'os', u'no', u'se', u'na', u'por', u'mais', u'as', u'dos', u'como', u'mas', u'ao', u'ele', u'das', u'\\xe0', u'seu', u'sua', u'ou', u'quando', u'muito', u'nos', u'j\\xe1', u'eu', u'tamb\\xe9m',...os', u'tiverem', u'terei', u'ter\\xe1', u'teremos', u'ter\\xe3o', u'teria', u'ter\\xedamos', u'teriam'],\n",
       "        strip_accents=None, sublinear_tf=False,\n",
       "        token_pattern=u'(?u)\\\\b\\\\w\\\\w+\\\\b',\n",
       "        tokenizer=<function tokenize at 0x7faf0048bd70>, use_idf=True,\n",
       "        vocabulary=None)"
      ]
     },
     "execution_count": 21,
     "metadata": {},
     "output_type": "execute_result"
    }
   ],
   "source": [
    "tfidf_items = TfidfVectorizer(analyzer='word', tokenizer=tokenize, stop_words= stopwords)\n",
    "tfidf_items.fit(corpusItemsService)"
   ]
  },
  {
   "cell_type": "code",
   "execution_count": 22,
   "metadata": {},
   "outputs": [
    {
     "name": "stdout",
     "output_type": "stream",
     "text": [
      "Stop Words :5 [u'de', u'a', u'o', u'que', u'e']\n",
      "Vocabulary [size]: 71\n",
      "Vocabulary: {u'axil': 8, u'manuten\\xe7': 39, u'color': 13, u'limp': 35, u',': 3, u'feminin': 25, u'maqui': 40, u'lav': 34, u'tint': 66, u'(': 0, u'sobrancelh': 64, u'int': 32, u'defini': 19, u'rost': 62, u'pacot': 50, u'pente': 56, u'fac': 24, u'gel': 27, u'crist': 16, u'tonal': 67, u'pedicur': 52, u'escov': 23, u'trat': 68, u'cost': 15, u'endermoterap': 22, u'design': 20, u'cauter': 12, u'henn': 30, u'olh': 49, u'repos': 61, u'hair': 29, u'barb': 9, u'sec': 63, u'pern': 57, u'masculin': 41, u'decor': 18, u')': 1, u'+': 2, u'nutr': 48, u'manicur': 38, u'pel': 55, u'linf\\xe1': 36, u'qu\\xedm': 60, u'test': 65, u'micropunt': 46, u'model': 47, u'meg': 44, u'porcel': 58, u'peeling': 53, u'antiestr': 7, u'mei': 45, u'par': 51, u'frances': 26, u'cort': 14, u'unh': 69, u'peit': 54, u'dren': 21, u'along': 6, u'bu\\xe7': 11, u'las': 33, u'acrygel': 5, u'c\\xedli': 17, u'mech': 43, u'acn': 4, u'geom\\xe9tr': 28, u'mass': 42, u'posti\\xe7': 59, u'virilh': 70, u'boc': 10, u'luz': 37, u'hidrat': 31}\n"
     ]
    }
   ],
   "source": [
    "print \"Stop Words :5\", tfidf_items.stop_words[:5]\n",
    "print \"Vocabulary [size]:\", len(tfidf_items.vocabulary_)\n",
    "print \"Vocabulary:\", tfidf_items.vocabulary_"
   ]
  },
  {
   "cell_type": "markdown",
   "metadata": {},
   "source": [
    "### Calculando o TF/IDF com TfidfTransformer"
   ]
  },
  {
   "cell_type": "code",
   "execution_count": 23,
   "metadata": {},
   "outputs": [
    {
     "name": "stdout",
     "output_type": "stream",
     "text": [
      "(53, 71)\n"
     ]
    }
   ],
   "source": [
    "tfidf_items_matrix = tfidf_items.transform(corpusItemsService)\n",
    "print tfidf_items_matrix.shape"
   ]
  },
  {
   "cell_type": "markdown",
   "metadata": {},
   "source": [
    "### Matriz filtrada"
   ]
  },
  {
   "cell_type": "code",
   "execution_count": 24,
   "metadata": {},
   "outputs": [],
   "source": [
    "# print data['servicos'][0:9]+ data['servicos'][24:26]\n",
    "connectlist = [index for index,item in enumerate(data['servicos']) if item['categoria'] in candidates]\n",
    "# print connectlist\n",
    "prodFilter = tfidf_items_matrix.todense()[[connectlist]]\n",
    "# prodFilter = tfidf_items_matrix.todense()[[0,1,2,3,4,5,6,7,8]]\n",
    "# prodFilter = tfidf_items_matrix.todense()\n",
    "\n",
    "# print prodFilter"
   ]
  },
  {
   "cell_type": "markdown",
   "metadata": {},
   "source": [
    "### Calculando Similaridade"
   ]
  },
  {
   "cell_type": "code",
   "execution_count": 25,
   "metadata": {
    "scrolled": true
   },
   "outputs": [
    {
     "name": "stdout",
     "output_type": "stream",
     "text": [
      "Olá, acredito que você procurando esse tipo de serviço \n",
      "(9, 0.59704955410508931)\n",
      "Top # 1 Unha de Porcelana custando R$ 50\n",
      "(6, 0.59704955410508931)\n",
      "Top # 2 Unhas de Acrygel custando R$ 50\n",
      "(5, 0.59704955410508931)\n",
      "Top # 3 Alongamento de Unha custando R$ 50\n",
      "(4, 0.59704955410508931)\n",
      "Top # 4 Unhas Postiças custando R$ 50\n",
      "(2, 0.59704955410508931)\n",
      "Top # 5 Unha de Gel custando R$ 50\n",
      "(8, 0.0)\n",
      "Top # 6 Reposição custando R$ 50\n",
      "(7, 0.0)\n",
      "Top # 7 Manutenção custando R$ 50\n",
      "(3, 0.0)\n",
      "Top # 8 Pedicure Decorada custando R$ 50\n",
      "(1, 0.0)\n",
      "Top # 9 Pedicure e Manicure custando R$ 50\n",
      "(0, 0.0)\n",
      "Top # 10 Francesinha custando R$ 50\n"
     ]
    }
   ],
   "source": [
    "raking = rankingInput(model= tfidf_items, matrix=prodFilter, sentence=['quero fazer minhas unhas' ])\n",
    "# print raking\n",
    "items_service = data['servicos']\n",
    "# data['servicos']\n",
    "# print rakina \n",
    "print \"Olá, acredito que você procurando esse tipo de serviço \"\n",
    "for index, item in enumerate(raking):\n",
    "    print item\n",
    "    print \"Top #\",str(index+1), items_service[connectlist[item[0]]]['nome'], 'custando R$', items_service[item[0]]['preco']\n"
   ]
  }
 ],
 "metadata": {
  "kernelspec": {
   "display_name": "Python 2",
   "language": "python",
   "name": "python2"
  },
  "language_info": {
   "codemirror_mode": {
    "name": "ipython",
    "version": 2
   },
   "file_extension": ".py",
   "mimetype": "text/x-python",
   "name": "python",
   "nbconvert_exporter": "python",
   "pygments_lexer": "ipython2",
   "version": "2.7.12"
  }
 },
 "nbformat": 4,
 "nbformat_minor": 2
}
